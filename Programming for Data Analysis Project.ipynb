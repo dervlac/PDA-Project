{
 "cells": [
  {
   "cell_type": "markdown",
   "metadata": {},
   "source": [
    "# Programming for Data Analysis Project"
   ]
  },
  {
   "cell_type": "markdown",
   "metadata": {},
   "source": [
    "***\n",
    "\n",
    "Project Brief:\n",
    "\n",
    "*Create a data-set create a data set by simulating a real-world phenomenon of your choosing*\n",
    "\n",
    " - *Choose a real-world phenomenon that can be measured and for which you could collect at least one-hundred data points across at least four different variables.*\n",
    " - *Investigate the types of variables involved, their likely distributions, and their relationships with each other.*\n",
    " - *Synthesise/simulate a data set as closely matching their properties as possible.*\n",
    " - *Detail your research and implement the simulation in a Jupyter notebook – the data set itself can simply be displayed in an output cell within the notebook.*\n",
    " \n",
    " ***"
   ]
  },
  {
   "cell_type": "markdown",
   "metadata": {},
   "source": [
    "### Introduction\n",
    "\n",
    "<br>\n",
    "\n",
    "Within this jupyter notebook, I will simulate a dataset which represents the distribution of salaries across a population. \n",
    "\n",
    "Some key variables which influence the salary of an individual are age, gender, education, industry, and continuity of service.\n",
    "\n",
    "To begin, I will research these variables and their trends within the workforce, as well as how they may relate to one another. I will then investigate how these variables impact the annual salary of an individual.\n",
    "\n",
    "Following this investigative work, I will conclude by using these results to simulate a data set which mimics the real-world analysis.\n",
    "\n",
    "<br>"
   ]
  },
  {
   "cell_type": "code",
   "execution_count": 2,
   "metadata": {},
   "outputs": [],
   "source": [
    "# for numerical arrays and distributions\n",
    "import numpy as np\n",
    "# for plotting\n",
    "import matplotlib.pyplot as plt\n",
    "# creating dataframes\n",
    "import pandas as pd\n",
    "# another format of plotting\n",
    "import seaborn as sns\n",
    "#nice plot layout in notebook\n",
    "%matplotlib inline\n",
    "# defining the seed so my results don't vary on each execution\n",
    "rng = np.random.default_rng(seed=0)"
   ]
  },
  {
   "cell_type": "markdown",
   "metadata": {},
   "source": [
    "### Variable 1: Gender\n",
    "\n",
    "For the purpose of this investigation, I will consider male and female as the 2 possible genders within the workforce, as the proportion of non-binary individuals included within widely avaialable statistical data is negligible. As such, gender in the workforce is a binomial distribution.\n",
    "\n",
    "According to 2019 data from the Central Statistics Office (CSO), women account for 45.9% of the workforce in ireland, and men make up the remaining 54.1% [1].\n",
    "\n",
    "For this analysis, a \"success\" will correlate to Male, so I will set p=0.541."
   ]
  },
  {
   "cell_type": "code",
   "execution_count": 4,
   "metadata": {},
   "outputs": [],
   "source": [
    "# one trial for each execution\n",
    "n=1\n",
    "# probability of success\n",
    "p=0.541\n",
    "# repeat 1000 times\n",
    "x=1000\n",
    "gender = rng.binomial(n,p,x)"
   ]
  },
  {
   "cell_type": "markdown",
   "metadata": {},
   "source": [
    "### Variable 2: Age\n",
    "\n",
    "The 2019 data from the CSO also provides a breakdown of the male and female workforce distribution across age bands [1]. As seen in table 5.4 and figure 5.5, the distribution across age for both genders peaks in the 35-44 age group, and loosely follows a normal distribution. \n",
    "\n",
    "Taking the median value of 40 as the mean, the remaining parameter to be considered is the standard deviation. Taking the empirical rule into consideration [2], and that the significant age range falls within +/- 25 of the mean, a standard deviation of 8 years best describes the spread of the data.\n",
    "\n"
   ]
  },
  {
   "cell_type": "code",
   "execution_count": 8,
   "metadata": {},
   "outputs": [],
   "source": [
    "# setting mean, standard deviation, and size of output\n",
    "loc = 40\n",
    "scale = 8\n",
    "size = 1000\n",
    "# creating the distribution\n",
    "age = rng.normal(loc,scale,size)\n",
    "# converting the age values to integers\n",
    "age = age.astype(int)"
   ]
  },
  {
   "cell_type": "markdown",
   "metadata": {},
   "source": [
    "##### References:\n",
    "\n",
    "[1] Women and Men in Ireland 2019; CSO; https://www.cso.ie/en/releasesandpublications/ep/p-wamii/womenandmeninireland2019/work/\n",
    "\n",
    "[2] Empirical Rule; Adam Hayes; https://www.investopedia.com/terms/e/empirical-rule.asp\n",
    "\n",
    "https://www.rte.ie/news/business/2020/1109/1177032-gender-pay-gap/\n",
    "\n",
    "https://www.payscale.com/research/IE/Industry\n",
    "\n",
    "https://www.cso.ie/en/releasesandpublications/ep/p-hes/hes2015/aiw/\n",
    "\n",
    "https://www.cso.ie/en/statistics/earnings/earningsandlabourcosts/\n",
    "\n",
    "https://www.google.com/search?rlz=1C1GCEU_enIE821IE821&sxsrf=ALeKk01Bv_bNXtiywTLDmdBgpTRtykAeGA%3A1607443657998&ei=yaTPX5yyPKXsxgPds66gBg&q=how+does+salary+change+based+on+length+of+service&oq=how+does+salary+change+based+on+length+of+ser&gs_lcp=CgZwc3ktYWIQAxgAMgUIIRCgATIFCCEQoAE6BAgjECc6DgguEMcBEK8BEMkDEJECOgUIABCRAjoICAAQsQMQgwE6CwguELEDEMcBEKMCOg4ILhCxAxCDARDHARCjAjoICAAQyQMQkQI6BAgAEEM6BwgAEBQQhwI6AggAOgUILhCxAzoFCAAQsQM6AgguOgUIABDJAzoJCAAQyQMQFhAeOgYIABAWEB46CAghEBYQHRAeOgQIIRAVOgcIIRAKEKABUMfaAViAnwJgz6oCaABwAXgAgAGfAYgBmSWSAQUxNy4yOJgBAKABAaoBB2d3cy13aXrAAQE&sclient=psy-ab\n",
    "\n",
    "https://www.statista.com/statistics/377005/employment-by-economic-sector-in-ireland/#:~:text=The%20statistic%20shows%20the%20distribution,percent%20in%20the%20service%20sector.\n",
    "\n",
    "https://www.cso.ie/en/statistics/labourmarket/\n",
    "\n"
   ]
  },
  {
   "cell_type": "markdown",
   "metadata": {},
   "source": [
    "***\n",
    "\n",
    "# End\n",
    "\n",
    "***"
   ]
  }
 ],
 "metadata": {
  "kernelspec": {
   "display_name": "Python 3",
   "language": "python",
   "name": "python3"
  },
  "language_info": {
   "codemirror_mode": {
    "name": "ipython",
    "version": 3
   },
   "file_extension": ".py",
   "mimetype": "text/x-python",
   "name": "python",
   "nbconvert_exporter": "python",
   "pygments_lexer": "ipython3",
   "version": "3.8.3"
  }
 },
 "nbformat": 4,
 "nbformat_minor": 4
}
