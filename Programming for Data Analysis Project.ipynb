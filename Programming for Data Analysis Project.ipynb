{
 "cells": [
  {
   "cell_type": "markdown",
   "metadata": {},
   "source": [
    "# Programming for Data Analysis Project"
   ]
  },
  {
   "cell_type": "markdown",
   "metadata": {},
   "source": [
    "***\n",
    "\n",
    "Project Brief:\n",
    "\n",
    "*Create a data-set create a data set by simulating a real-world phenomenon of your choosing*\n",
    "\n",
    " - *Choose a real-world phenomenon that can be measured and for which you could collect at least one-hundred data points across at least four different variables.*\n",
    " - *Investigate the types of variables involved, their likely distributions, and their relationships with each other.*\n",
    " - *Synthesise/simulate a data set as closely matching their properties as possible.*\n",
    " - *Detail your research and implement the simulation in a Jupyter notebook – the data set itself can simply be displayed in an output cell within the notebook.*\n",
    " \n",
    " ***"
   ]
  },
  {
   "cell_type": "markdown",
   "metadata": {},
   "source": [
    "### Introduction\n",
    "\n",
    "<br>\n",
    "\n",
    "Within this jupyter notebook, I will simulate a dataset which represents the distribution of salaries across a population. \n",
    "\n",
    "Some key variables which influence the salary of an individual are age, gender, education, and industry. Of these variables, industry, education and gender are all categorical variables which will follow binomial or multinomial distributions. As age is continuous numerical data, further investigation will be needed to identify the distribution.\n",
    "\n",
    "To begin, I will research these variables and their trends within the workforce, as well as how they may relate to one another. I will then investigate how these variables impact the annual salary of an individual.\n",
    "\n",
    "Following this investigative work, I will conclude by using these results to simulate a data set which mimics the real-world analysis.\n",
    "\n",
    "<br>"
   ]
  },
  {
   "cell_type": "code",
   "execution_count": 1,
   "metadata": {},
   "outputs": [],
   "source": [
    "# for numerical arrays and distributions\n",
    "import numpy as np\n",
    "# for plotting\n",
    "import matplotlib.pyplot as plt\n",
    "# creating dataframes\n",
    "import pandas as pd\n",
    "# another format of plotting\n",
    "import seaborn as sns\n",
    "#nice plot layout in notebook\n",
    "%matplotlib inline\n",
    "# defining the seed so my results don't vary on each execution\n",
    "rng = np.random.default_rng(seed=0)"
   ]
  },
  {
   "cell_type": "markdown",
   "metadata": {},
   "source": [
    "### Variable 1: Gender\n",
    "\n",
    "For the purpose of this investigation, I will consider male and female as the 2 possible genders within the workforce, as the proportion of non-binary individuals included within widely avaialable statistical data is negligible. As such, gender in the workforce is a binomial distribution.\n",
    "\n",
    "According to 2019 data from the Central Statistics Office (CSO), women account for 45.9% of the workforce in ireland, and men make up the remaining 54.1% [1].\n",
    "\n",
    "For this analysis, a \"success\" will correlate to Male, so I will set p=0.541."
   ]
  },
  {
   "cell_type": "code",
   "execution_count": 2,
   "metadata": {},
   "outputs": [],
   "source": [
    "# one trial for each execution\n",
    "n=1\n",
    "# probability of success\n",
    "p=0.541\n",
    "# repeat 1000 times\n",
    "x=1000\n",
    "gender = rng.binomial(n,p,x)"
   ]
  },
  {
   "cell_type": "code",
   "execution_count": 3,
   "metadata": {},
   "outputs": [
    {
     "name": "stdout",
     "output_type": "stream",
     "text": [
      "508\n"
     ]
    }
   ],
   "source": [
    "# calculate a count value to identify the male/female ratio in the data\n",
    "# will be useful for other variables which depend on gender\n",
    "count=0\n",
    "for i in gender:\n",
    "    if i==1:\n",
    "        count += 1\n",
    "# print result to screen for reference\n",
    "print(count)"
   ]
  },
  {
   "cell_type": "markdown",
   "metadata": {},
   "source": [
    "### Variable 2: Age\n",
    "\n",
    "The 2019 data from the CSO also provides a breakdown of the male and female workforce distribution across age bands [1]. As seen in table 5.4 and figure 5.5, the distribution across age for both genders peaks in the 35-44 age group, and loosely follows a normal distribution. As such, I believe the distribution of age within the workforce is largely independent of a person's gender, and will be treated as such in this simulation.\n",
    "\n",
    "Taking the median value of 40 as the mean, the remaining parameter to be considered is the standard deviation. Taking the empirical rule into consideration [2], and that the significant age range falls within +/- 25 of the mean, a standard deviation of 8 years best describes the spread of the data.\n",
    "\n"
   ]
  },
  {
   "cell_type": "code",
   "execution_count": 4,
   "metadata": {},
   "outputs": [],
   "source": [
    "# setting mean, standard deviation, and size of output\n",
    "loc = 40\n",
    "scale = 8\n",
    "size = 1000\n",
    "# creating the distribution\n",
    "age = rng.normal(loc,scale,size)\n",
    "# converting the age values to integers\n",
    "age = age.astype(int)"
   ]
  },
  {
   "cell_type": "code",
   "execution_count": 5,
   "metadata": {},
   "outputs": [],
   "source": [
    "# initiating the dataframe \n",
    "df = pd.DataFrame({'gender':gender, 'age':age})"
   ]
  },
  {
   "cell_type": "markdown",
   "metadata": {},
   "source": [
    "### Variable 3: Industry\n",
    "\n",
    "Another variable which is likely to have an impact on an individuals salary is the industry in which they work. For the purpose of this similuation, I have selected 13 categories from the 2016 census data [3] which provides the number of individuals employed in each of the categories, broken down by gender.\n",
    "\n",
    "The categories in scope are as follows:\n",
    "\n",
    " - Wholesale and retail trade;\n",
    " \n",
    " - Human health and social work;\n",
    " \n",
    " - Manufacturing;\n",
    " \n",
    " - Education;\n",
    " \n",
    " - Accommodation and food service;\n",
    " \n",
    " - Professional, scientific and technical;\n",
    " \n",
    " - Construction;\n",
    " \n",
    " - Financial and insurance;\n",
    " \n",
    " - Information and communication;\n",
    " \n",
    " - Agriculture, forestry and fishing;\n",
    " \n",
    " - Transportation and storage;\n",
    " \n",
    " - Administrative and support service;\n",
    " \n",
    " - Arts, entertainment and recreation.\n",
    " \n",
    "The distribution of the workforce across these categories varies greatly between males and females, thus a different distribution will be needed for each gender. In both cases, a multinomial distribution is most appropriate to simulate this data, however the probabilities applied to each category will vary. Given the data used as my source represents the entire population, I will use this to identify the appropriate probabilities to assign to each category [3]."
   ]
  },
  {
   "cell_type": "code",
   "execution_count": 6,
   "metadata": {},
   "outputs": [],
   "source": [
    "# adding categories to an array\n",
    "categories = ['Wholesale and retail trade','Human health and social work','Manufacturing','Education',\n",
    "              'Accommodation and food service','Professional, scientific and technical','Construction','Financial and insurance',\n",
    "              'Information and communication','Agriculture, forestry and fishing','Transportation and storage',\n",
    "              'Administrative and support service','Arts, entertainment and recreation']\n",
    "# probabilities to be used for males\n",
    "p_men = [0.1580,0.0527,0.1586,0.0490,0.0623,0.0684,0.1068,0.0486,0.0687,0.0888,0.0722,0.0447,0.0211]\n",
    "# probabilities to be used for females\n",
    "p_women = [0.1642,0.2295,0.0789,0.1730,0.0801,0.0686,0.0093,0.0620,0.0379,0.0136,0.0222,0.0408,0.0201]"
   ]
  },
  {
   "cell_type": "code",
   "execution_count": 7,
   "metadata": {},
   "outputs": [],
   "source": [
    "# the count variable is the count of males in the first array created\n",
    "# output will be count number of arrays with 13 elements each\n",
    "# each array will have 12 zeros and 1 one, the index of the one will correspond to the industry in the categories array\n",
    "industry_men = rng.multinomial(1,p_men,size=count)\n",
    "# empty list which will be used to hold the categroy generate\n",
    "intermediate_list = []\n",
    "# loop through each event in the simulation\n",
    "for i in industry_men:\n",
    "    # look at each value in the output array for the specific event\n",
    "    for j in range(len(i)):\n",
    "        # if loop will run when the category selected has been identfied\n",
    "        if i[j] == 1:\n",
    "            # add the relevant category to the list\n",
    "            intermediate_list.append(categories[j])\n",
    "\n",
    "# convert the list to a dataframe, so it can be added to the overall dataframe\n",
    "intermediate_dataframe = pd.DataFrame(intermediate_list,columns=['industry'])\n",
    "# identifies the indices in the overall dataframe which corrspond to men\n",
    "men_index = np.array(df.loc[df.gender==1].index)\n",
    "# adds the column of these indices to the results for men\n",
    "intermediate_dataframe['men_index'] = men_index\n",
    "# sets this column as the index for this array, so it will match up to the correct values in the overall dataframe\n",
    "intermediate_dataframe.set_index('men_index',inplace=True, drop=True)\n",
    "# add column of results to overall dataframe\n",
    "df.loc[df.gender==1,'industry'] = intermediate_dataframe"
   ]
  },
  {
   "cell_type": "code",
   "execution_count": 8,
   "metadata": {},
   "outputs": [],
   "source": [
    "# here the size value is set to the total amount minus the values already set for men\n",
    "# gender value also set to 0 instead of 1\n",
    "# all other comments from the previous cell also apply here\n",
    "industry_women = rng.multinomial(1,p_women,size=1000-count)\n",
    "intermediate_list1 = []\n",
    "for i in industry_women:\n",
    "    for j in range(len(i)):\n",
    "        if i[j] == 1:\n",
    "            intermediate_list1.append(categories[j])\n",
    "\n",
    "intermediate_dataframe1 = pd.DataFrame(intermediate_list1,columns=['industry'])\n",
    "women_index = np.array(df.loc[df.gender==0].index)\n",
    "intermediate_dataframe1['women_index'] = women_index\n",
    "intermediate_dataframe1.set_index('women_index',inplace=True, drop=True)\n",
    "df.loc[df.gender==0,'industry'] = intermediate_dataframe1"
   ]
  },
  {
   "cell_type": "markdown",
   "metadata": {},
   "source": [
    "### Variable 4: Education\n",
    "\n",
    "The education level of an individual is another variable which I believe will have an impact on their salary, with those who reach a higher level of qualification likely to earn a larger salary. Through inspection of the 2016 census data [4], it is clear from firgure 2.3 that the distribution of education levels has a significant level of variation between industries.\n",
    "\n",
    "With regards to gender, when the following 4 grouping of education level are considered:\n",
    "\n",
    " - Primary;\n",
    " \n",
    " - Secondary;\n",
    "  \n",
    " - Certificate/Apprenticeship;\n",
    " \n",
    " - Third Level +.\n",
    " \n",
    "The distribution also varies between the two genders [5]. However, the variation which occurs here is likely an echo of the variation due to industry and how frequently industries occur in each gender. For example, health care and social work is the most popular industry for females, which has a very high proportion of third level educated individuals. In contrast, farming and agriculture have a much higher proportion of males than females, and this category has a much higher incidence of primary and secondary education. \n",
    "\n",
    "As such, I feel that to consider both gender and industry as significant variables in the distribution of education, when these to variables are in themselves interdependent, would excessively skew the proportions in the distribution. I will use the population data from table EA007 from the 2016 census to calculate the correct probabilities for each of the 4 education levels listed above for both males and females."
   ]
  },
  {
   "cell_type": "code",
   "execution_count": null,
   "metadata": {},
   "outputs": [],
   "source": []
  },
  {
   "cell_type": "code",
   "execution_count": null,
   "metadata": {},
   "outputs": [],
   "source": []
  },
  {
   "cell_type": "code",
   "execution_count": null,
   "metadata": {},
   "outputs": [],
   "source": []
  },
  {
   "cell_type": "code",
   "execution_count": null,
   "metadata": {},
   "outputs": [],
   "source": []
  },
  {
   "cell_type": "code",
   "execution_count": null,
   "metadata": {},
   "outputs": [],
   "source": []
  },
  {
   "cell_type": "code",
   "execution_count": null,
   "metadata": {},
   "outputs": [],
   "source": []
  },
  {
   "cell_type": "markdown",
   "metadata": {},
   "source": [
    "##### References:\n",
    "\n",
    "[1] Women and Men in Ireland 2019; CSO; https://www.cso.ie/en/releasesandpublications/ep/p-wamii/womenandmeninireland2019/work/\n",
    "\n",
    "[2] Empirical Rule; Adam Hayes; https://www.investopedia.com/terms/e/empirical-rule.asp\n",
    "\n",
    "[3] Census 2016 Table EB030; CSO; https://data.cso.ie/table/EB030\n",
    "\n",
    "[4] Census 2016 Education and Economic Status; CSO; https://www.cso.ie/en/releasesandpublications/ep/p-cp10esil/p10esil/ees/\n",
    "\n",
    "[5] Census 2016 Table EA007; CSO; https://data.cso.ie/table/EA007\n",
    "\n",
    "https://www.rte.ie/news/business/2020/1109/1177032-gender-pay-gap/\n",
    "\n",
    "https://www.payscale.com/research/IE/Industry\n",
    "\n",
    "https://www.cso.ie/en/releasesandpublications/ep/p-hes/hes2015/aiw/\n",
    "\n",
    "https://www.cso.ie/en/statistics/earnings/earningsandlabourcosts/\n",
    "\n",
    "https://www.statista.com/statistics/377005/employment-by-economic-sector-in-ireland/#:~:text=The%20statistic%20shows%20the%20distribution,percent%20in%20the%20service%20sector.\n",
    "\n",
    "https://www.cso.ie/en/statistics/labourmarket/\n",
    "\n"
   ]
  },
  {
   "cell_type": "markdown",
   "metadata": {},
   "source": [
    "***\n",
    "\n",
    "# End\n",
    "\n",
    "***"
   ]
  }
 ],
 "metadata": {
  "kernelspec": {
   "display_name": "Python 3",
   "language": "python",
   "name": "python3"
  },
  "language_info": {
   "codemirror_mode": {
    "name": "ipython",
    "version": 3
   },
   "file_extension": ".py",
   "mimetype": "text/x-python",
   "name": "python",
   "nbconvert_exporter": "python",
   "pygments_lexer": "ipython3",
   "version": "3.8.3"
  }
 },
 "nbformat": 4,
 "nbformat_minor": 4
}
