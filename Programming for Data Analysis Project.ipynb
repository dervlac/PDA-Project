{
 "cells": [
  {
   "cell_type": "markdown",
   "metadata": {},
   "source": [
    "# Programming for Data Analysis Project"
   ]
  },
  {
   "cell_type": "markdown",
   "metadata": {},
   "source": [
    "***\n",
    "\n",
    "Project Brief:\n",
    "\n",
    "*Create a data-set create a data set by simulating a real-world phenomenon of your choosing*\n",
    "\n",
    " - *Choose a real-world phenomenon that can be measured and for which you could collect at least one-hundred data points across at least four different variables.*\n",
    " - *Investigate the types of variables involved, their likely distributions, and their relationships with each other.*\n",
    " - *Synthesise/simulate a data set as closely matching their properties as possible.*\n",
    " - *Detail your research and implement the simulation in a Jupyter notebook – the data set itself can simply be displayed in an output cell within the notebook.*\n",
    " \n",
    " ***"
   ]
  },
  {
   "cell_type": "markdown",
   "metadata": {},
   "source": [
    "### Introduction\n",
    "\n",
    "<br>\n",
    "\n",
    "Within this jupyter notebook, I will simulate a dataset which represents the distribution of salaries across a population. \n",
    "\n",
    "Some key variables which influence the salary of an individual are age, gender, education, industry, and continuity of service.\n",
    "\n",
    "To begin, I will research these variables and their trends within the workforce, as well as how they may relate to one another. I will then investigate how these variables impact the annual salary of an individual.\n",
    "\n",
    "Following this investigative work, I will conclude by using these results to simulate a data set which mimics the real-world analysis.\n",
    "\n",
    "<br>"
   ]
  },
  {
   "cell_type": "code",
   "execution_count": 1,
   "metadata": {},
   "outputs": [],
   "source": [
    "# for numerical arrays and distributions\n",
    "import numpy as np\n",
    "# for plotting\n",
    "import matplotlib.pyplot as plt\n",
    "# creating dataframes\n",
    "import pandas as pd\n",
    "# another format of plotting\n",
    "import seaborn as sns"
   ]
  },
  {
   "cell_type": "code",
   "execution_count": null,
   "metadata": {},
   "outputs": [],
   "source": []
  },
  {
   "cell_type": "code",
   "execution_count": null,
   "metadata": {},
   "outputs": [],
   "source": []
  },
  {
   "cell_type": "code",
   "execution_count": null,
   "metadata": {},
   "outputs": [],
   "source": []
  },
  {
   "cell_type": "code",
   "execution_count": null,
   "metadata": {},
   "outputs": [],
   "source": []
  },
  {
   "cell_type": "markdown",
   "metadata": {},
   "source": [
    "##### References:\n",
    "\n",
    "https://www.cso.ie/en/releasesandpublications/ep/p-wamii/womenandmeninireland2019/work/\n",
    "\n",
    "https://www.cso.ie/en/releasesandpublications/ep/p-wamii/womenandmeninireland2016/employment/#:~:text=In%202016%20the%20employment%20rates,in%20the%20EU%20of%2061.4%25.\n",
    "\n",
    "https://www.rte.ie/news/business/2020/1109/1177032-gender-pay-gap/\n",
    "\n",
    "https://www.payscale.com/research/IE/Industry\n",
    "\n",
    "https://www.cso.ie/en/releasesandpublications/ep/p-hes/hes2015/aiw/\n",
    "\n",
    "https://www.cso.ie/en/statistics/earnings/earningsandlabourcosts/\n",
    "\n",
    "https://www.google.com/search?rlz=1C1GCEU_enIE821IE821&sxsrf=ALeKk01Bv_bNXtiywTLDmdBgpTRtykAeGA%3A1607443657998&ei=yaTPX5yyPKXsxgPds66gBg&q=how+does+salary+change+based+on+length+of+service&oq=how+does+salary+change+based+on+length+of+ser&gs_lcp=CgZwc3ktYWIQAxgAMgUIIRCgATIFCCEQoAE6BAgjECc6DgguEMcBEK8BEMkDEJECOgUIABCRAjoICAAQsQMQgwE6CwguELEDEMcBEKMCOg4ILhCxAxCDARDHARCjAjoICAAQyQMQkQI6BAgAEEM6BwgAEBQQhwI6AggAOgUILhCxAzoFCAAQsQM6AgguOgUIABDJAzoJCAAQyQMQFhAeOgYIABAWEB46CAghEBYQHRAeOgQIIRAVOgcIIRAKEKABUMfaAViAnwJgz6oCaABwAXgAgAGfAYgBmSWSAQUxNy4yOJgBAKABAaoBB2d3cy13aXrAAQE&sclient=psy-ab\n",
    "\n",
    "https://www.statista.com/statistics/377005/employment-by-economic-sector-in-ireland/#:~:text=The%20statistic%20shows%20the%20distribution,percent%20in%20the%20service%20sector.\n",
    "\n",
    "https://www.cso.ie/en/statistics/labourmarket/\n",
    "\n"
   ]
  },
  {
   "cell_type": "markdown",
   "metadata": {},
   "source": [
    "***\n",
    "\n",
    "# End\n",
    "\n",
    "***"
   ]
  }
 ],
 "metadata": {
  "kernelspec": {
   "display_name": "Python 3",
   "language": "python",
   "name": "python3"
  },
  "language_info": {
   "codemirror_mode": {
    "name": "ipython",
    "version": 3
   },
   "file_extension": ".py",
   "mimetype": "text/x-python",
   "name": "python",
   "nbconvert_exporter": "python",
   "pygments_lexer": "ipython3",
   "version": "3.8.3"
  }
 },
 "nbformat": 4,
 "nbformat_minor": 4
}
